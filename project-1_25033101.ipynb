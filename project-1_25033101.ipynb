{
 "cells": [
  {
   "cell_type": "code",
   "execution_count": 1,
   "metadata": {},
   "outputs": [],
   "source": [
    "import numpy as np\n",
    "import pandas as pd\n",
    "import plotly.express as px\n",
    "\n",
    "hh_df_init = pd.read_csv('./data/hh_database.csv', sep=';')"
   ]
  },
  {
   "cell_type": "code",
   "execution_count": 2,
   "metadata": {},
   "outputs": [
    {
     "data": {
      "application/vnd.microsoft.datawrangler.viewer.v0+json": {
       "columns": [
        {
         "name": "index",
         "rawType": "object",
         "type": "string"
        },
        {
         "name": "Пол, возраст",
         "rawType": "object",
         "type": "string"
        },
        {
         "name": "ЗП",
         "rawType": "object",
         "type": "string"
        },
        {
         "name": "Ищет работу на должность:",
         "rawType": "object",
         "type": "string"
        },
        {
         "name": "Город, переезд, командировки",
         "rawType": "object",
         "type": "string"
        },
        {
         "name": "Занятость",
         "rawType": "object",
         "type": "string"
        },
        {
         "name": "График",
         "rawType": "object",
         "type": "string"
        },
        {
         "name": "Опыт работы",
         "rawType": "object",
         "type": "string"
        },
        {
         "name": "Последнее/нынешнее место работы",
         "rawType": "object",
         "type": "string"
        },
        {
         "name": "Последняя/нынешняя должность",
         "rawType": "object",
         "type": "string"
        },
        {
         "name": "Образование и ВУЗ",
         "rawType": "object",
         "type": "string"
        },
        {
         "name": "Обновление резюме",
         "rawType": "object",
         "type": "string"
        },
        {
         "name": "Авто",
         "rawType": "object",
         "type": "string"
        }
       ],
       "conversionMethod": "pd.DataFrame",
       "ref": "6b3a82e7-03c8-4ff6-8279-40e0854919c5",
       "rows": [
        [
         "count",
         "44744",
         "44744",
         "44744",
         "44744",
         "44744",
         "44744",
         "44576",
         "44743",
         "44742",
         "44744",
         "44744",
         "44744"
        ],
        [
         "unique",
         "16003",
         "690",
         "14929",
         "10063",
         "38",
         "47",
         "44413",
         "30214",
         "16927",
         "40148",
         "18838",
         "2"
        ],
        [
         "top",
         "Мужчина ,  32 года , родился 17 сентября 1986",
         "50000 руб.",
         "Системный администратор",
         "Москва , не готов к переезду , не готов к командировкам",
         "полная занятость",
         "полный день",
         "Опыт работы 10 лет 8 месяцев  Апрель 2018 — по настоящее время 1 год 2 месяца ООО Форсаж Санкт-Петербург Автомобильный бизнес ... Автозапчасти, шины (розничная торговля) Легковые, грузовые автомобили, мототехника, автобусы, троллейбусы (производство) Розничная торговля автомобилями (дилерский центр) Техническое обслуживание, ремонт автомобилей Финансовые услуги (кэптивные банки и лизинговые компании) Программист 1C 8.3 Разработка и внедрение необходимого функционала по требованию компании. Техническая поддержка пользователей. Администрирование базы данных. Достижения: внедрение нового функционала для отдела сервисного обслуживания, который повысил оборот и конверсию.  Июнь 2016 — Март  2018 1 год 10 месяцев ООО \"Бутик Матрешка Москва Розничная торговля ... Розничная сеть (книги, игрушки, подарки, часы и прочее) Специалист по логистике Обязанности: Оприходование товара на склад. Работа с поставщиками. Анализ продаж и формирование заказа поставщикам (более 5000 наименований). Проведение инвентаризаций. IT-поддержка пользователей (продавцов-кассиров), обучение персонала работе в 1С. Достижения: доработка конфигурации 1С под нужды предприятия. Снижение количества неликвидного товара в магазинах и на складе.  Июль 2014 — Май  2016 1 год 11 месяцев ОАО \"МегаФон Ритейл\" Москва , megafon.ru Телекоммуникации, связь ... Мобильная связь Эксперт по мобильным технологиям Помощь и консультация в обращении с мобильными устройствами, продажа мобильных устройств, консультирование по тарифам связи, документооборот, проведение инвентаризаций  Октябрь 2013 — Февраль  2014 5 месяцев Аброн Холдинг Москва , visionpro.ru Менеджер по продажам Продажа и консультирование клиентов по продуктам видеонаблюдения, СКУД, ОПС.  Июль 2011 — Сентябрь  2013 2 года 3 месяца Шоколадница, Сеть кофеен Москва , www.shoko.ru Гостиницы, рестораны, общепит, кейтеринг ... Ресторан, общественное питание, фаст-фуд Бармен Приготовление напитков, содержание в чистоте рабочего места, проведение еженедельных инвентаризаций.  Июнь 2008 — Июль  2011 3 года 2 месяца ООО ТД Аброн Холдинг visionpro.ru Курьер Доставка документов, материальных ценностей и денежных средств",
         "Индивидуальное предпринимательство / частная практика / фриланс",
         "Системный администратор",
         "Высшее образование 1987 Военный инженерный Краснознаменный институт им. А.Ф. Можайского факультет автоматизированных систем сбора и обработки информации, математическое обеспечение автоматизированных систем, инженер-математик",
         "07.05.2019 09:50",
         "Не указано"
        ],
        [
         "freq",
         "18",
         "4064",
         "3099",
         "1261",
         "30026",
         "22727",
         "3",
         "935",
         "2062",
         "4",
         "25",
         "32268"
        ]
       ],
       "shape": {
        "columns": 12,
        "rows": 4
       }
      },
      "text/html": [
       "<div>\n",
       "<style scoped>\n",
       "    .dataframe tbody tr th:only-of-type {\n",
       "        vertical-align: middle;\n",
       "    }\n",
       "\n",
       "    .dataframe tbody tr th {\n",
       "        vertical-align: top;\n",
       "    }\n",
       "\n",
       "    .dataframe thead th {\n",
       "        text-align: right;\n",
       "    }\n",
       "</style>\n",
       "<table border=\"1\" class=\"dataframe\">\n",
       "  <thead>\n",
       "    <tr style=\"text-align: right;\">\n",
       "      <th></th>\n",
       "      <th>Пол, возраст</th>\n",
       "      <th>ЗП</th>\n",
       "      <th>Ищет работу на должность:</th>\n",
       "      <th>Город, переезд, командировки</th>\n",
       "      <th>Занятость</th>\n",
       "      <th>График</th>\n",
       "      <th>Опыт работы</th>\n",
       "      <th>Последнее/нынешнее место работы</th>\n",
       "      <th>Последняя/нынешняя должность</th>\n",
       "      <th>Образование и ВУЗ</th>\n",
       "      <th>Обновление резюме</th>\n",
       "      <th>Авто</th>\n",
       "    </tr>\n",
       "  </thead>\n",
       "  <tbody>\n",
       "    <tr>\n",
       "      <th>count</th>\n",
       "      <td>44744</td>\n",
       "      <td>44744</td>\n",
       "      <td>44744</td>\n",
       "      <td>44744</td>\n",
       "      <td>44744</td>\n",
       "      <td>44744</td>\n",
       "      <td>44576</td>\n",
       "      <td>44743</td>\n",
       "      <td>44742</td>\n",
       "      <td>44744</td>\n",
       "      <td>44744</td>\n",
       "      <td>44744</td>\n",
       "    </tr>\n",
       "    <tr>\n",
       "      <th>unique</th>\n",
       "      <td>16003</td>\n",
       "      <td>690</td>\n",
       "      <td>14929</td>\n",
       "      <td>10063</td>\n",
       "      <td>38</td>\n",
       "      <td>47</td>\n",
       "      <td>44413</td>\n",
       "      <td>30214</td>\n",
       "      <td>16927</td>\n",
       "      <td>40148</td>\n",
       "      <td>18838</td>\n",
       "      <td>2</td>\n",
       "    </tr>\n",
       "    <tr>\n",
       "      <th>top</th>\n",
       "      <td>Мужчина ,  32 года , родился 17 сентября 1986</td>\n",
       "      <td>50000 руб.</td>\n",
       "      <td>Системный администратор</td>\n",
       "      <td>Москва , не готов к переезду , не готов к кома...</td>\n",
       "      <td>полная занятость</td>\n",
       "      <td>полный день</td>\n",
       "      <td>Опыт работы 10 лет 8 месяцев  Апрель 2018 — по...</td>\n",
       "      <td>Индивидуальное предпринимательство / частная п...</td>\n",
       "      <td>Системный администратор</td>\n",
       "      <td>Высшее образование 1987 Военный инженерный Кра...</td>\n",
       "      <td>07.05.2019 09:50</td>\n",
       "      <td>Не указано</td>\n",
       "    </tr>\n",
       "    <tr>\n",
       "      <th>freq</th>\n",
       "      <td>18</td>\n",
       "      <td>4064</td>\n",
       "      <td>3099</td>\n",
       "      <td>1261</td>\n",
       "      <td>30026</td>\n",
       "      <td>22727</td>\n",
       "      <td>3</td>\n",
       "      <td>935</td>\n",
       "      <td>2062</td>\n",
       "      <td>4</td>\n",
       "      <td>25</td>\n",
       "      <td>32268</td>\n",
       "    </tr>\n",
       "  </tbody>\n",
       "</table>\n",
       "</div>"
      ],
      "text/plain": [
       "                                         Пол, возраст          ЗП  \\\n",
       "count                                           44744       44744   \n",
       "unique                                          16003         690   \n",
       "top     Мужчина ,  32 года , родился 17 сентября 1986  50000 руб.   \n",
       "freq                                               18        4064   \n",
       "\n",
       "       Ищет работу на должность:  \\\n",
       "count                      44744   \n",
       "unique                     14929   \n",
       "top      Системный администратор   \n",
       "freq                        3099   \n",
       "\n",
       "                             Город, переезд, командировки         Занятость  \\\n",
       "count                                               44744             44744   \n",
       "unique                                              10063                38   \n",
       "top     Москва , не готов к переезду , не готов к кома...  полная занятость   \n",
       "freq                                                 1261             30026   \n",
       "\n",
       "             График                                        Опыт работы  \\\n",
       "count         44744                                              44576   \n",
       "unique           47                                              44413   \n",
       "top     полный день  Опыт работы 10 лет 8 месяцев  Апрель 2018 — по...   \n",
       "freq          22727                                                  3   \n",
       "\n",
       "                          Последнее/нынешнее место работы  \\\n",
       "count                                               44743   \n",
       "unique                                              30214   \n",
       "top     Индивидуальное предпринимательство / частная п...   \n",
       "freq                                                  935   \n",
       "\n",
       "       Последняя/нынешняя должность  \\\n",
       "count                         44742   \n",
       "unique                        16927   \n",
       "top         Системный администратор   \n",
       "freq                           2062   \n",
       "\n",
       "                                        Образование и ВУЗ Обновление резюме  \\\n",
       "count                                               44744             44744   \n",
       "unique                                              40148             18838   \n",
       "top     Высшее образование 1987 Военный инженерный Кра...  07.05.2019 09:50   \n",
       "freq                                                    4                25   \n",
       "\n",
       "              Авто  \n",
       "count        44744  \n",
       "unique           2  \n",
       "top     Не указано  \n",
       "freq         32268  "
      ]
     },
     "execution_count": 2,
     "metadata": {},
     "output_type": "execute_result"
    }
   ],
   "source": [
    "hh_df_init.describe()"
   ]
  },
  {
   "cell_type": "code",
   "execution_count": 3,
   "metadata": {},
   "outputs": [
    {
     "name": "stdout",
     "output_type": "stream",
     "text": [
      "<class 'pandas.core.frame.DataFrame'>\n",
      "RangeIndex: 44744 entries, 0 to 44743\n",
      "Data columns (total 12 columns):\n",
      " #   Column                           Non-Null Count  Dtype \n",
      "---  ------                           --------------  ----- \n",
      " 0   Пол, возраст                     44744 non-null  object\n",
      " 1   ЗП                               44744 non-null  object\n",
      " 2   Ищет работу на должность:        44744 non-null  object\n",
      " 3   Город, переезд, командировки     44744 non-null  object\n",
      " 4   Занятость                        44744 non-null  object\n",
      " 5   График                           44744 non-null  object\n",
      " 6   Опыт работы                      44576 non-null  object\n",
      " 7   Последнее/нынешнее место работы  44743 non-null  object\n",
      " 8   Последняя/нынешняя должность     44742 non-null  object\n",
      " 9   Образование и ВУЗ                44744 non-null  object\n",
      " 10  Обновление резюме                44744 non-null  object\n",
      " 11  Авто                             44744 non-null  object\n",
      "dtypes: object(12)\n",
      "memory usage: 4.1+ MB\n"
     ]
    }
   ],
   "source": [
    "hh_df_init.info()"
   ]
  },
  {
   "cell_type": "code",
   "execution_count": 4,
   "metadata": {},
   "outputs": [
    {
     "data": {
      "text/plain": [
       "(44744, 12)"
      ]
     },
     "execution_count": 4,
     "metadata": {},
     "output_type": "execute_result"
    }
   ],
   "source": [
    "hh_df_init.shape"
   ]
  },
  {
   "cell_type": "code",
   "execution_count": 5,
   "metadata": {},
   "outputs": [
    {
     "data": {
      "application/vnd.microsoft.datawrangler.viewer.v0+json": {
       "columns": [
        {
         "name": "index",
         "rawType": "int64",
         "type": "integer"
        },
        {
         "name": "Пол, возраст",
         "rawType": "object",
         "type": "string"
        },
        {
         "name": "ЗП",
         "rawType": "object",
         "type": "string"
        },
        {
         "name": "Ищет работу на должность:",
         "rawType": "object",
         "type": "string"
        },
        {
         "name": "Город, переезд, командировки",
         "rawType": "object",
         "type": "string"
        },
        {
         "name": "Занятость",
         "rawType": "object",
         "type": "string"
        },
        {
         "name": "График",
         "rawType": "object",
         "type": "string"
        },
        {
         "name": "Опыт работы",
         "rawType": "object",
         "type": "string"
        },
        {
         "name": "Последнее/нынешнее место работы",
         "rawType": "object",
         "type": "string"
        },
        {
         "name": "Последняя/нынешняя должность",
         "rawType": "object",
         "type": "string"
        },
        {
         "name": "Образование и ВУЗ",
         "rawType": "object",
         "type": "string"
        },
        {
         "name": "Обновление резюме",
         "rawType": "object",
         "type": "string"
        },
        {
         "name": "Авто",
         "rawType": "object",
         "type": "string"
        }
       ],
       "conversionMethod": "pd.DataFrame",
       "ref": "02c36931-7d04-4845-889e-0ba7ec23e50f",
       "rows": [
        [
         "0",
         "Мужчина ,  39 лет , родился 27 ноября 1979",
         "29000 руб.",
         "Системный администратор",
         "Советск (Калининградская область) , не готов к переезду , не готов к командировкам",
         "частичная занятость, проектная работа, полная занятость",
         "гибкий график, полный день, сменный график, вахтовый метод, удаленная работа",
         "Опыт работы 16 лет 10 месяцев  Август 2010 — по настоящее время 8 лет 10 месяцев МАОУ \"СОШ № 1 г.Немана\" Системный администратор Обслуживание ПК,установка ПО, ремонт, периферийной техники, Интернет локальная сеть. Ведение Электронного журнала, сайта организации.  Август 2002 — Август  2010 8 лет 1 месяц ТС \"ВЕСТЕР-ИНФО\" Старший продавец, директор отдела Продажи компьютерной техники",
         "МАОУ \"СОШ № 1 г.Немана\"",
         "Системный администратор",
         "Неоконченное высшее образование 2000  Балтийская государственная академия рыбопромыслового флота, Калининград судоводительский, Организация и безопасность движения",
         "16.04.2019 15:59",
         "Имеется собственный автомобиль"
        ],
        [
         "1",
         "Мужчина ,  60 лет , родился 20 марта 1959",
         "40000 руб.",
         "Технический писатель",
         "Королев , не готов к переезду , готов к редким командировкам",
         "частичная занятость, проектная работа, полная занятость",
         "гибкий график, полный день, сменный график, удаленная работа",
         "Опыт работы 19 лет 5 месяцев  Январь 2000 — по настоящее время 19 лет 5 месяцев Временный трудовой коллектив Москва Информационные технологии, системная интеграция, интернет ... Разработка программного обеспечения Системная интеграция, автоматизации технологических и бизнес-процессов предприятия, ИТ-консалтинг Менеджер проекта, Аналитик, Технический писатель Весь цикл ПО, кроме программирования.",
         "Временный трудовой коллектив",
         "Менеджер проекта, Аналитик, Технический писатель",
         "Высшее образование 1981  Военно-космическая академия им. А.Ф. Можайского, Санкт-Петербург АСУ, АСУ",
         "12.04.2019 08:42",
         "Не указано"
        ],
        [
         "2",
         "Женщина ,  36 лет , родилась 12 августа 1982",
         "20000 руб.",
         "Оператор",
         "Тверь , не готова к переезду , не готова к командировкам",
         "полная занятость",
         "полный день",
         "Опыт работы 10 лет 3 месяца  Октябрь 2004 — Декабрь  2014 10 лет 3 месяца ПАО Сбербанк Кассир-операционист Работа с денежной наличностью, обслуживание клиентов, операции с иностранной валютой, проведение инкассации, составление и обработка первичных документов.",
         "ПАО Сбербанк",
         "Кассир-операционист",
         "Среднее специальное образование 2002 Профессиональный лицей 39 г. Твери Экономический, Банковское дело",
         "16.04.2019 08:35",
         "Не указано"
        ],
        [
         "3",
         "Мужчина ,  38 лет , родился 25 июня 1980",
         "100000 руб.",
         "Веб-разработчик (HTML / CSS / JS / PHP / базы данных; фреймворки, дизайн, интерфейсы, CMS)",
         "Саратов , не готов к переезду , готов к редким командировкам",
         "частичная занятость, проектная работа, полная занятость",
         "гибкий график, удаленная работа",
         "Опыт работы 18 лет 9 месяцев  Август 2017 — Апрель  2019 1 год 9 месяцев OpenSoft Саратов , www.opensoftdev.ru Информационные технологии, системная интеграция, интернет ... Системная интеграция, автоматизации технологических и бизнес-процессов предприятия, ИТ-консалтинг Инженер-программист Разработка и поддержка сайтов на корпоративной CMS и на WordPress; разработка корпоративной CMS; дизайн, вёрстка, улучшение интерфейсов существующих сайтов, основанных на разных фреймворках и CMS; консультации и техническая поддержка.  Октябрь 2006 — Июнь  2018 11 лет 9 месяцев СГУ им. Н.Г. Чернышевского Саратовская область , www.sgu.ru/ Преподаватель, научный руководитель Преподаватель (растровая компьютерная графика, разработка интерфейсов, PHP, JavaScript, фотография и др. дисциплины)  Июнь 2013 — Сентябрь  2017 4 года 4 месяца MIF Technology miftechnology.com/ Информационные технологии, системная интеграция, интернет ... Разработка программного обеспечения Системная интеграция, автоматизации технологических и бизнес-процессов предприятия, ИТ-консалтинг Веб-разработчик Веб-разработка широкого профиля: проектирование, дизайн, вёрстка, многоязычные системы, базы данных, программирование, тестирование, консультации, техническая поддержка.  Апрель 2012 — Август  2012 5 месяцев Веб-Синергия Саратов Информационные технологии, системная интеграция, интернет ... Разработка программного обеспечения Веб-разработчик Полноценная разработка веб-приложения, посвящённого поиску и заказу книг в различных электронных библиотеках.  Сентябрь 2010 — Март  2012 1 год 7 месяцев IRESSOURCES Франция , iressources.com Веб-разработчик, верстальщик Вёрстка веб-страниц (кроссбраузерная, адаптивная, кроссплатформенная) для сложных макетов, дизайн, разработка социальных сетей и фрагментов сайтов (мультиязычных и на французском / английском языках).  Апрель 2008 — Август  2010 2 года 5 месяцев ЛАР, ООО Россия , www.lar.ru Верстальщик Вёрстка веб-страниц (кроссбраузерная, кроссскринная, кроссплатформенная) для сложных макетов, дизайн, разработка веб-приложений на PHP / MySQL.  Август 2005 — Март  2008 2 года 8 месяцев ГУ РОПЕ «Неделя области» Саратов , www.nedelia.ru Верстальщик, веб-дизайнер, выпускающий редактор Полиграфическая вёрстка, создание и поддержка сайта газеты  Сентябрь 2002 — Июль  2005 2 года 11 месяцев ООО «Медиа-Саратов» Саратов , www.bogatej.ru/ Верстальщик, веб-дизайнер, корректор Полиграфическая вёрстка, создание и поддержка сайта газеты  Январь 2002 — Май  2004 2 года 5 месяцев Школа №105 Саратов Образовательные учреждения ... Школа, детский сад Учитель информатики Собственный курс, включающий основы веб-разработки.",
         "OpenSoft",
         "Инженер-программист",
         "Высшее образование 2002  Саратовский государственный университет им. Н.Г. Чернышевского, Саратов Филологический, филология (лингвистика), Красный диплом, специализация: филолог (лингвист), доп. специализация: информационные технологии в филологии",
         "08.04.2019 14:23",
         "Не указано"
        ],
        [
         "4",
         "Женщина ,  26 лет , родилась 3 марта 1993",
         "140000 руб.",
         "Региональный менеджер по продажам",
         "Москва , не готова к переезду , готова к командировкам",
         "полная занятость",
         "полный день",
         "Опыт работы 5 лет 7 месяцев  Региональный менеджер по продажам 140 000 руб. Информационные технологии, интернет, телеком Консалтинг, Аутсорсинг Продажи Маркетинг Занятость: полная занятость График работы: полный день Опыт работы 5 лет 7 месяцев Август 201",
         "Мармелад",
         "Менеджер по продажам",
         "Высшее образование 2015 Кгу Психологии и педагогики, Педагогика и психология (педагог-психолог) 2015 Российский государственный социальный университет, Москва Журналистика, Журналистика (бакалавр журналистики)",
         "22.04.2019 10:32",
         "Не указано"
        ]
       ],
       "shape": {
        "columns": 12,
        "rows": 5
       }
      },
      "text/html": [
       "<div>\n",
       "<style scoped>\n",
       "    .dataframe tbody tr th:only-of-type {\n",
       "        vertical-align: middle;\n",
       "    }\n",
       "\n",
       "    .dataframe tbody tr th {\n",
       "        vertical-align: top;\n",
       "    }\n",
       "\n",
       "    .dataframe thead th {\n",
       "        text-align: right;\n",
       "    }\n",
       "</style>\n",
       "<table border=\"1\" class=\"dataframe\">\n",
       "  <thead>\n",
       "    <tr style=\"text-align: right;\">\n",
       "      <th></th>\n",
       "      <th>Пол, возраст</th>\n",
       "      <th>ЗП</th>\n",
       "      <th>Ищет работу на должность:</th>\n",
       "      <th>Город, переезд, командировки</th>\n",
       "      <th>Занятость</th>\n",
       "      <th>График</th>\n",
       "      <th>Опыт работы</th>\n",
       "      <th>Последнее/нынешнее место работы</th>\n",
       "      <th>Последняя/нынешняя должность</th>\n",
       "      <th>Образование и ВУЗ</th>\n",
       "      <th>Обновление резюме</th>\n",
       "      <th>Авто</th>\n",
       "    </tr>\n",
       "  </thead>\n",
       "  <tbody>\n",
       "    <tr>\n",
       "      <th>0</th>\n",
       "      <td>Мужчина ,  39 лет , родился 27 ноября 1979</td>\n",
       "      <td>29000 руб.</td>\n",
       "      <td>Системный администратор</td>\n",
       "      <td>Советск (Калининградская область) , не готов к...</td>\n",
       "      <td>частичная занятость, проектная работа, полная ...</td>\n",
       "      <td>гибкий график, полный день, сменный график, ва...</td>\n",
       "      <td>Опыт работы 16 лет 10 месяцев  Август 2010 — п...</td>\n",
       "      <td>МАОУ \"СОШ № 1 г.Немана\"</td>\n",
       "      <td>Системный администратор</td>\n",
       "      <td>Неоконченное высшее образование 2000  Балтийск...</td>\n",
       "      <td>16.04.2019 15:59</td>\n",
       "      <td>Имеется собственный автомобиль</td>\n",
       "    </tr>\n",
       "    <tr>\n",
       "      <th>1</th>\n",
       "      <td>Мужчина ,  60 лет , родился 20 марта 1959</td>\n",
       "      <td>40000 руб.</td>\n",
       "      <td>Технический писатель</td>\n",
       "      <td>Королев , не готов к переезду , готов к редким...</td>\n",
       "      <td>частичная занятость, проектная работа, полная ...</td>\n",
       "      <td>гибкий график, полный день, сменный график, уд...</td>\n",
       "      <td>Опыт работы 19 лет 5 месяцев  Январь 2000 — по...</td>\n",
       "      <td>Временный трудовой коллектив</td>\n",
       "      <td>Менеджер проекта, Аналитик, Технический писатель</td>\n",
       "      <td>Высшее образование 1981  Военно-космическая ак...</td>\n",
       "      <td>12.04.2019 08:42</td>\n",
       "      <td>Не указано</td>\n",
       "    </tr>\n",
       "    <tr>\n",
       "      <th>2</th>\n",
       "      <td>Женщина ,  36 лет , родилась 12 августа 1982</td>\n",
       "      <td>20000 руб.</td>\n",
       "      <td>Оператор</td>\n",
       "      <td>Тверь , не готова к переезду , не готова к ком...</td>\n",
       "      <td>полная занятость</td>\n",
       "      <td>полный день</td>\n",
       "      <td>Опыт работы 10 лет 3 месяца  Октябрь 2004 — Де...</td>\n",
       "      <td>ПАО Сбербанк</td>\n",
       "      <td>Кассир-операционист</td>\n",
       "      <td>Среднее специальное образование 2002 Профессио...</td>\n",
       "      <td>16.04.2019 08:35</td>\n",
       "      <td>Не указано</td>\n",
       "    </tr>\n",
       "    <tr>\n",
       "      <th>3</th>\n",
       "      <td>Мужчина ,  38 лет , родился 25 июня 1980</td>\n",
       "      <td>100000 руб.</td>\n",
       "      <td>Веб-разработчик (HTML / CSS / JS / PHP / базы ...</td>\n",
       "      <td>Саратов , не готов к переезду , готов к редким...</td>\n",
       "      <td>частичная занятость, проектная работа, полная ...</td>\n",
       "      <td>гибкий график, удаленная работа</td>\n",
       "      <td>Опыт работы 18 лет 9 месяцев  Август 2017 — Ап...</td>\n",
       "      <td>OpenSoft</td>\n",
       "      <td>Инженер-программист</td>\n",
       "      <td>Высшее образование 2002  Саратовский государст...</td>\n",
       "      <td>08.04.2019 14:23</td>\n",
       "      <td>Не указано</td>\n",
       "    </tr>\n",
       "    <tr>\n",
       "      <th>4</th>\n",
       "      <td>Женщина ,  26 лет , родилась 3 марта 1993</td>\n",
       "      <td>140000 руб.</td>\n",
       "      <td>Региональный менеджер по продажам</td>\n",
       "      <td>Москва , не готова к переезду , готова к коман...</td>\n",
       "      <td>полная занятость</td>\n",
       "      <td>полный день</td>\n",
       "      <td>Опыт работы 5 лет 7 месяцев  Региональный мене...</td>\n",
       "      <td>Мармелад</td>\n",
       "      <td>Менеджер по продажам</td>\n",
       "      <td>Высшее образование 2015 Кгу Психологии и педаг...</td>\n",
       "      <td>22.04.2019 10:32</td>\n",
       "      <td>Не указано</td>\n",
       "    </tr>\n",
       "  </tbody>\n",
       "</table>\n",
       "</div>"
      ],
      "text/plain": [
       "                                   Пол, возраст           ЗП  \\\n",
       "0    Мужчина ,  39 лет , родился 27 ноября 1979   29000 руб.   \n",
       "1     Мужчина ,  60 лет , родился 20 марта 1959   40000 руб.   \n",
       "2  Женщина ,  36 лет , родилась 12 августа 1982   20000 руб.   \n",
       "3      Мужчина ,  38 лет , родился 25 июня 1980  100000 руб.   \n",
       "4     Женщина ,  26 лет , родилась 3 марта 1993  140000 руб.   \n",
       "\n",
       "                           Ищет работу на должность:  \\\n",
       "0                            Системный администратор   \n",
       "1                               Технический писатель   \n",
       "2                                           Оператор   \n",
       "3  Веб-разработчик (HTML / CSS / JS / PHP / базы ...   \n",
       "4                  Региональный менеджер по продажам   \n",
       "\n",
       "                        Город, переезд, командировки  \\\n",
       "0  Советск (Калининградская область) , не готов к...   \n",
       "1  Королев , не готов к переезду , готов к редким...   \n",
       "2  Тверь , не готова к переезду , не готова к ком...   \n",
       "3  Саратов , не готов к переезду , готов к редким...   \n",
       "4  Москва , не готова к переезду , готова к коман...   \n",
       "\n",
       "                                           Занятость  \\\n",
       "0  частичная занятость, проектная работа, полная ...   \n",
       "1  частичная занятость, проектная работа, полная ...   \n",
       "2                                   полная занятость   \n",
       "3  частичная занятость, проектная работа, полная ...   \n",
       "4                                   полная занятость   \n",
       "\n",
       "                                              График  \\\n",
       "0  гибкий график, полный день, сменный график, ва...   \n",
       "1  гибкий график, полный день, сменный график, уд...   \n",
       "2                                        полный день   \n",
       "3                    гибкий график, удаленная работа   \n",
       "4                                        полный день   \n",
       "\n",
       "                                         Опыт работы  \\\n",
       "0  Опыт работы 16 лет 10 месяцев  Август 2010 — п...   \n",
       "1  Опыт работы 19 лет 5 месяцев  Январь 2000 — по...   \n",
       "2  Опыт работы 10 лет 3 месяца  Октябрь 2004 — Де...   \n",
       "3  Опыт работы 18 лет 9 месяцев  Август 2017 — Ап...   \n",
       "4  Опыт работы 5 лет 7 месяцев  Региональный мене...   \n",
       "\n",
       "  Последнее/нынешнее место работы  \\\n",
       "0         МАОУ \"СОШ № 1 г.Немана\"   \n",
       "1    Временный трудовой коллектив   \n",
       "2                    ПАО Сбербанк   \n",
       "3                        OpenSoft   \n",
       "4                        Мармелад   \n",
       "\n",
       "                       Последняя/нынешняя должность  \\\n",
       "0                           Системный администратор   \n",
       "1  Менеджер проекта, Аналитик, Технический писатель   \n",
       "2                               Кассир-операционист   \n",
       "3                               Инженер-программист   \n",
       "4                              Менеджер по продажам   \n",
       "\n",
       "                                   Образование и ВУЗ Обновление резюме  \\\n",
       "0  Неоконченное высшее образование 2000  Балтийск...  16.04.2019 15:59   \n",
       "1  Высшее образование 1981  Военно-космическая ак...  12.04.2019 08:42   \n",
       "2  Среднее специальное образование 2002 Профессио...  16.04.2019 08:35   \n",
       "3  Высшее образование 2002  Саратовский государст...  08.04.2019 14:23   \n",
       "4  Высшее образование 2015 Кгу Психологии и педаг...  22.04.2019 10:32   \n",
       "\n",
       "                             Авто  \n",
       "0  Имеется собственный автомобиль  \n",
       "1                      Не указано  \n",
       "2                      Не указано  \n",
       "3                      Не указано  \n",
       "4                      Не указано  "
      ]
     },
     "execution_count": 5,
     "metadata": {},
     "output_type": "execute_result"
    }
   ],
   "source": [
    "hh_df_init.head()"
   ]
  },
  {
   "cell_type": "code",
   "execution_count": 6,
   "metadata": {},
   "outputs": [
    {
     "data": {
      "text/plain": [
       "<AxesSubplot:title={'center':'QQQ'}>"
      ]
     },
     "execution_count": 6,
     "metadata": {},
     "output_type": "execute_result"
    },
    {
     "data": {
      "image/png": "[encoded data removed]",
      "text/plain": [
       "<Figure size 720x288 with 1 Axes>"
      ]
     },
     "metadata": {
      "needs_background": "light"
     },
     "output_type": "display_data"
    }
   ],
   "source": [
    "cols_with_null_perc = hh_df_init.isnull().mean()\n",
    "cols_with_null = cols_with_null_perc[cols_with_null_perc > 0]\n",
    "\n",
    "cols_with_null.plot(\n",
    "    kind='bar',\n",
    "    figsize=(10, 4),\n",
    "    title='QQQ'\n",
    ")"
   ]
  },
  {
   "cell_type": "code",
   "execution_count": 7,
   "metadata": {},
   "outputs": [
    {
     "data": {
      "text/plain": [
       "array(['неоконченное высшее', 'высшее', 'среднее специальное', 'среднее'],\n",
       "      dtype=object)"
      ]
     },
     "metadata": {},
     "output_type": "display_data"
    },
    {
     "data": {
      "text/plain": [
       "высшее                 33863\n",
       "среднее специальное     5765\n",
       "неоконченное высшее     4557\n",
       "среднее                  559\n",
       "Name: Образование, dtype: int64"
      ]
     },
     "metadata": {},
     "output_type": "display_data"
    }
   ],
   "source": [
    "hh_df_copy = hh_df_init.copy()\n",
    "\n",
    "def education_processing(education_string):\n",
    "    education_splitted = education_string.split(' ')\n",
    "    if education_splitted[1] == 'образование':\n",
    "        education_result = education_splitted[0]\n",
    "    else:\n",
    "        education_result = education_splitted[0] + ' ' + education_splitted[1]\n",
    "    \n",
    "    education_result = education_result.lower()\n",
    "    return education_result\n",
    "\n",
    "hh_df_copy['Образование'] = hh_df_copy['Образование и ВУЗ'].apply(education_processing)\n",
    "\n",
    "display(hh_df_copy['Образование'].unique())\n",
    "\n",
    "hh_df = hh_df_copy.drop('Образование и ВУЗ', axis=1)\n",
    "\n",
    "display(hh_df_copy['Образование'].value_counts())"
   ]
  },
  {
   "cell_type": "code",
   "execution_count": 8,
   "metadata": {},
   "outputs": [
    {
     "data": {
      "text/plain": [
       "М    36211\n",
       "Ж     8533\n",
       "Name: Пол, dtype: int64"
      ]
     },
     "metadata": {},
     "output_type": "display_data"
    }
   ],
   "source": [
    "hh_df_copy = hh_df.copy()\n",
    "\n",
    "def gender_age_processing(gender_age_string):\n",
    "    gender_age_splitted = gender_age_string.split(',')\n",
    "    gender_result = gender_age_splitted[0][0]\n",
    "    age_result = int(gender_age_splitted[1][2:4])\n",
    "    return pd.Series([gender_result, age_result])\n",
    "\n",
    "hh_df_copy[['Пол', 'Возраст']] = hh_df_copy['Пол, возраст'].apply(gender_age_processing)\n",
    "\n",
    "display(hh_df_copy['Пол'].value_counts())\n",
    "\n",
    "hh_df = hh_df_copy.drop('Пол, возраст', axis=1)"
   ]
  },
  {
   "cell_type": "code",
   "execution_count": 10,
   "metadata": {},
   "outputs": [],
   "source": [
    "hh_df_copy = hh_df.copy()\n",
    "\n",
    "def experience_process(experience_string):\n",
    "    if (experience_string is np.nan) or (experience_string == 'Не указано'):\n",
    "        return None\n",
    "    \n",
    "    experience_splitted = experience_string.split(' ')\n",
    "    years_exp = 0\n",
    "    months_exp = 0\n",
    "    last_exp = experience_splitted[:7]\n",
    "    year_words = ['год', 'года', 'лет']\n",
    "    month_words = ['месяц', 'месяца', 'месяцев']\n",
    "    \n",
    "    for index, item in enumerate(last_exp):\n",
    "        if item in year_words:\n",
    "            years_exp = int(last_exp[index-1])\n",
    "        if item in month_words:\n",
    "            months_exp = int(last_exp[index-1])\n",
    "    \n",
    "    experience = years_exp * 12 + months_exp\n",
    "    return experience\n",
    "\n",
    "hh_df_copy['Опыт работы (месяц)'] = hh_df_copy['Опыт работы'].apply(experience_process)\n",
    "    \n",
    "    "
   ]
  }
 ],
 "metadata": {
  "kernelspec": {
   "display_name": "base",
   "language": "python",
   "name": "python3"
  },
  "language_info": {
   "codemirror_mode": {
    "name": "ipython",
    "version": 3
   },
   "file_extension": ".py",
   "mimetype": "text/x-python",
   "name": "python",
   "nbconvert_exporter": "python",
   "pygments_lexer": "ipython3",
   "version": "3.8.12"
  }
 },
 "nbformat": 4,
 "nbformat_minor": 2
}
