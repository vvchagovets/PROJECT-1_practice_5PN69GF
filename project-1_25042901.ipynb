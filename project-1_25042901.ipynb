{
 "cells": [
  {
   "cell_type": "code",
   "execution_count": 1,
   "id": "c44123ee",
   "metadata": {},
   "outputs": [],
   "source": [
    "import numpy as np\n",
    "import pandas as pd\n",
    "import plotly.express as px\n",
    "\n",
    "hh_df_init = pd.read_csv('./data/hh_database.csv', sep=';')"
   ]
  },
  {
   "cell_type": "code",
   "execution_count": 2,
   "id": "a6dfef97",
   "metadata": {},
   "outputs": [
    {
     "data": {
      "application/vnd.microsoft.datawrangler.viewer.v0+json": {
       "columns": [
        {
         "name": "index",
         "rawType": "int64",
         "type": "integer"
        },
        {
         "name": "Пол, возраст",
         "rawType": "object",
         "type": "string"
        },
        {
         "name": "ЗП",
         "rawType": "object",
         "type": "string"
        },
        {
         "name": "Ищет работу на должность:",
         "rawType": "object",
         "type": "string"
        },
        {
         "name": "Город, переезд, командировки",
         "rawType": "object",
         "type": "string"
        },
        {
         "name": "Занятость",
         "rawType": "object",
         "type": "string"
        },
        {
         "name": "График",
         "rawType": "object",
         "type": "string"
        },
        {
         "name": "Опыт работы",
         "rawType": "object",
         "type": "string"
        },
        {
         "name": "Последнее/нынешнее место работы",
         "rawType": "object",
         "type": "string"
        },
        {
         "name": "Последняя/нынешняя должность",
         "rawType": "object",
         "type": "string"
        },
        {
         "name": "Образование и ВУЗ",
         "rawType": "object",
         "type": "string"
        },
        {
         "name": "Обновление резюме",
         "rawType": "object",
         "type": "string"
        },
        {
         "name": "Авто",
         "rawType": "object",
         "type": "string"
        }
       ],
       "conversionMethod": "pd.DataFrame",
       "ref": "47ce0fa5-5a34-4e2c-a597-508d4ffcbf25",
       "rows": [
        [
         "0",
         "Мужчина ,  39 лет , родился 27 ноября 1979",
         "29000 руб.",
         "Системный администратор",
         "Советск (Калининградская область) , не готов к переезду , не готов к командировкам",
         "частичная занятость, проектная работа, полная занятость",
         "гибкий график, полный день, сменный график, вахтовый метод, удаленная работа",
         "Опыт работы 16 лет 10 месяцев  Август 2010 — по настоящее время 8 лет 10 месяцев МАОУ \"СОШ № 1 г.Немана\" Системный администратор Обслуживание ПК,установка ПО, ремонт, периферийной техники, Интернет локальная сеть. Ведение Электронного журнала, сайта организации.  Август 2002 — Август  2010 8 лет 1 месяц ТС \"ВЕСТЕР-ИНФО\" Старший продавец, директор отдела Продажи компьютерной техники",
         "МАОУ \"СОШ № 1 г.Немана\"",
         "Системный администратор",
         "Неоконченное высшее образование 2000  Балтийская государственная академия рыбопромыслового флота, Калининград судоводительский, Организация и безопасность движения",
         "16.04.2019 15:59",
         "Имеется собственный автомобиль"
        ],
        [
         "1",
         "Мужчина ,  60 лет , родился 20 марта 1959",
         "40000 руб.",
         "Технический писатель",
         "Королев , не готов к переезду , готов к редким командировкам",
         "частичная занятость, проектная работа, полная занятость",
         "гибкий график, полный день, сменный график, удаленная работа",
         "Опыт работы 19 лет 5 месяцев  Январь 2000 — по настоящее время 19 лет 5 месяцев Временный трудовой коллектив Москва Информационные технологии, системная интеграция, интернет ... Разработка программного обеспечения Системная интеграция, автоматизации технологических и бизнес-процессов предприятия, ИТ-консалтинг Менеджер проекта, Аналитик, Технический писатель Весь цикл ПО, кроме программирования.",
         "Временный трудовой коллектив",
         "Менеджер проекта, Аналитик, Технический писатель",
         "Высшее образование 1981  Военно-космическая академия им. А.Ф. Можайского, Санкт-Петербург АСУ, АСУ",
         "12.04.2019 08:42",
         "Не указано"
        ],
        [
         "2",
         "Женщина ,  36 лет , родилась 12 августа 1982",
         "20000 руб.",
         "Оператор",
         "Тверь , не готова к переезду , не готова к командировкам",
         "полная занятость",
         "полный день",
         "Опыт работы 10 лет 3 месяца  Октябрь 2004 — Декабрь  2014 10 лет 3 месяца ПАО Сбербанк Кассир-операционист Работа с денежной наличностью, обслуживание клиентов, операции с иностранной валютой, проведение инкассации, составление и обработка первичных документов.",
         "ПАО Сбербанк",
         "Кассир-операционист",
         "Среднее специальное образование 2002 Профессиональный лицей 39 г. Твери Экономический, Банковское дело",
         "16.04.2019 08:35",
         "Не указано"
        ],
        [
         "3",
         "Мужчина ,  38 лет , родился 25 июня 1980",
         "100000 руб.",
         "Веб-разработчик (HTML / CSS / JS / PHP / базы данных; фреймворки, дизайн, интерфейсы, CMS)",
         "Саратов , не готов к переезду , готов к редким командировкам",
         "частичная занятость, проектная работа, полная занятость",
         "гибкий график, удаленная работа",
         "Опыт работы 18 лет 9 месяцев  Август 2017 — Апрель  2019 1 год 9 месяцев OpenSoft Саратов , www.opensoftdev.ru Информационные технологии, системная интеграция, интернет ... Системная интеграция, автоматизации технологических и бизнес-процессов предприятия, ИТ-консалтинг Инженер-программист Разработка и поддержка сайтов на корпоративной CMS и на WordPress; разработка корпоративной CMS; дизайн, вёрстка, улучшение интерфейсов существующих сайтов, основанных на разных фреймворках и CMS; консультации и техническая поддержка.  Октябрь 2006 — Июнь  2018 11 лет 9 месяцев СГУ им. Н.Г. Чернышевского Саратовская область , www.sgu.ru/ Преподаватель, научный руководитель Преподаватель (растровая компьютерная графика, разработка интерфейсов, PHP, JavaScript, фотография и др. дисциплины)  Июнь 2013 — Сентябрь  2017 4 года 4 месяца MIF Technology miftechnology.com/ Информационные технологии, системная интеграция, интернет ... Разработка программного обеспечения Системная интеграция, автоматизации технологических и бизнес-процессов предприятия, ИТ-консалтинг Веб-разработчик Веб-разработка широкого профиля: проектирование, дизайн, вёрстка, многоязычные системы, базы данных, программирование, тестирование, консультации, техническая поддержка.  Апрель 2012 — Август  2012 5 месяцев Веб-Синергия Саратов Информационные технологии, системная интеграция, интернет ... Разработка программного обеспечения Веб-разработчик Полноценная разработка веб-приложения, посвящённого поиску и заказу книг в различных электронных библиотеках.  Сентябрь 2010 — Март  2012 1 год 7 месяцев IRESSOURCES Франция , iressources.com Веб-разработчик, верстальщик Вёрстка веб-страниц (кроссбраузерная, адаптивная, кроссплатформенная) для сложных макетов, дизайн, разработка социальных сетей и фрагментов сайтов (мультиязычных и на французском / английском языках).  Апрель 2008 — Август  2010 2 года 5 месяцев ЛАР, ООО Россия , www.lar.ru Верстальщик Вёрстка веб-страниц (кроссбраузерная, кроссскринная, кроссплатформенная) для сложных макетов, дизайн, разработка веб-приложений на PHP / MySQL.  Август 2005 — Март  2008 2 года 8 месяцев ГУ РОПЕ «Неделя области» Саратов , www.nedelia.ru Верстальщик, веб-дизайнер, выпускающий редактор Полиграфическая вёрстка, создание и поддержка сайта газеты  Сентябрь 2002 — Июль  2005 2 года 11 месяцев ООО «Медиа-Саратов» Саратов , www.bogatej.ru/ Верстальщик, веб-дизайнер, корректор Полиграфическая вёрстка, создание и поддержка сайта газеты  Январь 2002 — Май  2004 2 года 5 месяцев Школа №105 Саратов Образовательные учреждения ... Школа, детский сад Учитель информатики Собственный курс, включающий основы веб-разработки.",
         "OpenSoft",
         "Инженер-программист",
         "Высшее образование 2002  Саратовский государственный университет им. Н.Г. Чернышевского, Саратов Филологический, филология (лингвистика), Красный диплом, специализация: филолог (лингвист), доп. специализация: информационные технологии в филологии",
         "08.04.2019 14:23",
         "Не указано"
        ],
        [
         "4",
         "Женщина ,  26 лет , родилась 3 марта 1993",
         "140000 руб.",
         "Региональный менеджер по продажам",
         "Москва , не готова к переезду , готова к командировкам",
         "полная занятость",
         "полный день",
         "Опыт работы 5 лет 7 месяцев  Региональный менеджер по продажам 140 000 руб. Информационные технологии, интернет, телеком Консалтинг, Аутсорсинг Продажи Маркетинг Занятость: полная занятость График работы: полный день Опыт работы 5 лет 7 месяцев Август 201",
         "Мармелад",
         "Менеджер по продажам",
         "Высшее образование 2015 Кгу Психологии и педагогики, Педагогика и психология (педагог-психолог) 2015 Российский государственный социальный университет, Москва Журналистика, Журналистика (бакалавр журналистики)",
         "22.04.2019 10:32",
         "Не указано"
        ]
       ],
       "shape": {
        "columns": 12,
        "rows": 5
       }
      },
      "text/html": [
       "<div>\n",
       "<style scoped>\n",
       "    .dataframe tbody tr th:only-of-type {\n",
       "        vertical-align: middle;\n",
       "    }\n",
       "\n",
       "    .dataframe tbody tr th {\n",
       "        vertical-align: top;\n",
       "    }\n",
       "\n",
       "    .dataframe thead th {\n",
       "        text-align: right;\n",
       "    }\n",
       "</style>\n",
       "<table border=\"1\" class=\"dataframe\">\n",
       "  <thead>\n",
       "    <tr style=\"text-align: right;\">\n",
       "      <th></th>\n",
       "      <th>Пол, возраст</th>\n",
       "      <th>ЗП</th>\n",
       "      <th>Ищет работу на должность:</th>\n",
       "      <th>Город, переезд, командировки</th>\n",
       "      <th>Занятость</th>\n",
       "      <th>График</th>\n",
       "      <th>Опыт работы</th>\n",
       "      <th>Последнее/нынешнее место работы</th>\n",
       "      <th>Последняя/нынешняя должность</th>\n",
       "      <th>Образование и ВУЗ</th>\n",
       "      <th>Обновление резюме</th>\n",
       "      <th>Авто</th>\n",
       "    </tr>\n",
       "  </thead>\n",
       "  <tbody>\n",
       "    <tr>\n",
       "      <th>0</th>\n",
       "      <td>Мужчина ,  39 лет , родился 27 ноября 1979</td>\n",
       "      <td>29000 руб.</td>\n",
       "      <td>Системный администратор</td>\n",
       "      <td>Советск (Калининградская область) , не готов к...</td>\n",
       "      <td>частичная занятость, проектная работа, полная ...</td>\n",
       "      <td>гибкий график, полный день, сменный график, ва...</td>\n",
       "      <td>Опыт работы 16 лет 10 месяцев  Август 2010 — п...</td>\n",
       "      <td>МАОУ \"СОШ № 1 г.Немана\"</td>\n",
       "      <td>Системный администратор</td>\n",
       "      <td>Неоконченное высшее образование 2000  Балтийск...</td>\n",
       "      <td>16.04.2019 15:59</td>\n",
       "      <td>Имеется собственный автомобиль</td>\n",
       "    </tr>\n",
       "    <tr>\n",
       "      <th>1</th>\n",
       "      <td>Мужчина ,  60 лет , родился 20 марта 1959</td>\n",
       "      <td>40000 руб.</td>\n",
       "      <td>Технический писатель</td>\n",
       "      <td>Королев , не готов к переезду , готов к редким...</td>\n",
       "      <td>частичная занятость, проектная работа, полная ...</td>\n",
       "      <td>гибкий график, полный день, сменный график, уд...</td>\n",
       "      <td>Опыт работы 19 лет 5 месяцев  Январь 2000 — по...</td>\n",
       "      <td>Временный трудовой коллектив</td>\n",
       "      <td>Менеджер проекта, Аналитик, Технический писатель</td>\n",
       "      <td>Высшее образование 1981  Военно-космическая ак...</td>\n",
       "      <td>12.04.2019 08:42</td>\n",
       "      <td>Не указано</td>\n",
       "    </tr>\n",
       "    <tr>\n",
       "      <th>2</th>\n",
       "      <td>Женщина ,  36 лет , родилась 12 августа 1982</td>\n",
       "      <td>20000 руб.</td>\n",
       "      <td>Оператор</td>\n",
       "      <td>Тверь , не готова к переезду , не готова к ком...</td>\n",
       "      <td>полная занятость</td>\n",
       "      <td>полный день</td>\n",
       "      <td>Опыт работы 10 лет 3 месяца  Октябрь 2004 — Де...</td>\n",
       "      <td>ПАО Сбербанк</td>\n",
       "      <td>Кассир-операционист</td>\n",
       "      <td>Среднее специальное образование 2002 Профессио...</td>\n",
       "      <td>16.04.2019 08:35</td>\n",
       "      <td>Не указано</td>\n",
       "    </tr>\n",
       "    <tr>\n",
       "      <th>3</th>\n",
       "      <td>Мужчина ,  38 лет , родился 25 июня 1980</td>\n",
       "      <td>100000 руб.</td>\n",
       "      <td>Веб-разработчик (HTML / CSS / JS / PHP / базы ...</td>\n",
       "      <td>Саратов , не готов к переезду , готов к редким...</td>\n",
       "      <td>частичная занятость, проектная работа, полная ...</td>\n",
       "      <td>гибкий график, удаленная работа</td>\n",
       "      <td>Опыт работы 18 лет 9 месяцев  Август 2017 — Ап...</td>\n",
       "      <td>OpenSoft</td>\n",
       "      <td>Инженер-программист</td>\n",
       "      <td>Высшее образование 2002  Саратовский государст...</td>\n",
       "      <td>08.04.2019 14:23</td>\n",
       "      <td>Не указано</td>\n",
       "    </tr>\n",
       "    <tr>\n",
       "      <th>4</th>\n",
       "      <td>Женщина ,  26 лет , родилась 3 марта 1993</td>\n",
       "      <td>140000 руб.</td>\n",
       "      <td>Региональный менеджер по продажам</td>\n",
       "      <td>Москва , не готова к переезду , готова к коман...</td>\n",
       "      <td>полная занятость</td>\n",
       "      <td>полный день</td>\n",
       "      <td>Опыт работы 5 лет 7 месяцев  Региональный мене...</td>\n",
       "      <td>Мармелад</td>\n",
       "      <td>Менеджер по продажам</td>\n",
       "      <td>Высшее образование 2015 Кгу Психологии и педаг...</td>\n",
       "      <td>22.04.2019 10:32</td>\n",
       "      <td>Не указано</td>\n",
       "    </tr>\n",
       "  </tbody>\n",
       "</table>\n",
       "</div>"
      ],
      "text/plain": [
       "                                   Пол, возраст           ЗП  \\\n",
       "0    Мужчина ,  39 лет , родился 27 ноября 1979   29000 руб.   \n",
       "1     Мужчина ,  60 лет , родился 20 марта 1959   40000 руб.   \n",
       "2  Женщина ,  36 лет , родилась 12 августа 1982   20000 руб.   \n",
       "3      Мужчина ,  38 лет , родился 25 июня 1980  100000 руб.   \n",
       "4     Женщина ,  26 лет , родилась 3 марта 1993  140000 руб.   \n",
       "\n",
       "                           Ищет работу на должность:  \\\n",
       "0                            Системный администратор   \n",
       "1                               Технический писатель   \n",
       "2                                           Оператор   \n",
       "3  Веб-разработчик (HTML / CSS / JS / PHP / базы ...   \n",
       "4                  Региональный менеджер по продажам   \n",
       "\n",
       "                        Город, переезд, командировки  \\\n",
       "0  Советск (Калининградская область) , не готов к...   \n",
       "1  Королев , не готов к переезду , готов к редким...   \n",
       "2  Тверь , не готова к переезду , не готова к ком...   \n",
       "3  Саратов , не готов к переезду , готов к редким...   \n",
       "4  Москва , не готова к переезду , готова к коман...   \n",
       "\n",
       "                                           Занятость  \\\n",
       "0  частичная занятость, проектная работа, полная ...   \n",
       "1  частичная занятость, проектная работа, полная ...   \n",
       "2                                   полная занятость   \n",
       "3  частичная занятость, проектная работа, полная ...   \n",
       "4                                   полная занятость   \n",
       "\n",
       "                                              График  \\\n",
       "0  гибкий график, полный день, сменный график, ва...   \n",
       "1  гибкий график, полный день, сменный график, уд...   \n",
       "2                                        полный день   \n",
       "3                    гибкий график, удаленная работа   \n",
       "4                                        полный день   \n",
       "\n",
       "                                         Опыт работы  \\\n",
       "0  Опыт работы 16 лет 10 месяцев  Август 2010 — п...   \n",
       "1  Опыт работы 19 лет 5 месяцев  Январь 2000 — по...   \n",
       "2  Опыт работы 10 лет 3 месяца  Октябрь 2004 — Де...   \n",
       "3  Опыт работы 18 лет 9 месяцев  Август 2017 — Ап...   \n",
       "4  Опыт работы 5 лет 7 месяцев  Региональный мене...   \n",
       "\n",
       "  Последнее/нынешнее место работы  \\\n",
       "0         МАОУ \"СОШ № 1 г.Немана\"   \n",
       "1    Временный трудовой коллектив   \n",
       "2                    ПАО Сбербанк   \n",
       "3                        OpenSoft   \n",
       "4                        Мармелад   \n",
       "\n",
       "                       Последняя/нынешняя должность  \\\n",
       "0                           Системный администратор   \n",
       "1  Менеджер проекта, Аналитик, Технический писатель   \n",
       "2                               Кассир-операционист   \n",
       "3                               Инженер-программист   \n",
       "4                              Менеджер по продажам   \n",
       "\n",
       "                                   Образование и ВУЗ Обновление резюме  \\\n",
       "0  Неоконченное высшее образование 2000  Балтийск...  16.04.2019 15:59   \n",
       "1  Высшее образование 1981  Военно-космическая ак...  12.04.2019 08:42   \n",
       "2  Среднее специальное образование 2002 Профессио...  16.04.2019 08:35   \n",
       "3  Высшее образование 2002  Саратовский государст...  08.04.2019 14:23   \n",
       "4  Высшее образование 2015 Кгу Психологии и педаг...  22.04.2019 10:32   \n",
       "\n",
       "                             Авто  \n",
       "0  Имеется собственный автомобиль  \n",
       "1                      Не указано  \n",
       "2                      Не указано  \n",
       "3                      Не указано  \n",
       "4                      Не указано  "
      ]
     },
     "execution_count": 2,
     "metadata": {},
     "output_type": "execute_result"
    }
   ],
   "source": [
    "hh_df_init.head()"
   ]
  },
  {
   "cell_type": "code",
   "execution_count": 3,
   "id": "671a25aa",
   "metadata": {},
   "outputs": [
    {
     "name": "stdout",
     "output_type": "stream",
     "text": [
      "<class 'pandas.core.frame.DataFrame'>\n",
      "RangeIndex: 44744 entries, 0 to 44743\n",
      "Data columns (total 12 columns):\n",
      " #   Column                           Non-Null Count  Dtype \n",
      "---  ------                           --------------  ----- \n",
      " 0   Пол, возраст                     44744 non-null  object\n",
      " 1   ЗП                               44744 non-null  object\n",
      " 2   Ищет работу на должность:        44744 non-null  object\n",
      " 3   Город, переезд, командировки     44744 non-null  object\n",
      " 4   Занятость                        44744 non-null  object\n",
      " 5   График                           44744 non-null  object\n",
      " 6   Опыт работы                      44576 non-null  object\n",
      " 7   Последнее/нынешнее место работы  44743 non-null  object\n",
      " 8   Последняя/нынешняя должность     44742 non-null  object\n",
      " 9   Образование и ВУЗ                44744 non-null  object\n",
      " 10  Обновление резюме                44744 non-null  object\n",
      " 11  Авто                             44744 non-null  object\n",
      "dtypes: object(12)\n",
      "memory usage: 4.1+ MB\n"
     ]
    }
   ],
   "source": [
    "hh_df_init.info()"
   ]
  },
  {
   "cell_type": "code",
   "execution_count": 4,
   "id": "a45c882f",
   "metadata": {},
   "outputs": [
    {
     "data": {
      "text/plain": [
       "<Axes: title={'center': 'qqq'}>"
      ]
     },
     "execution_count": 4,
     "metadata": {},
     "output_type": "execute_result"
    },
    {
     "data": {
      "image/png": "[encoded data removed]",
      "text/plain": [
       "<Figure size 1000x400 with 1 Axes>"
      ]
     },
     "metadata": {},
     "output_type": "display_data"
    }
   ],
   "source": [
    "cols_with_null_percent = hh_df_init.isna().mean() * 100\n",
    "\n",
    "cols_with_null = cols_with_null_percent[cols_with_null_percent > 0]\n",
    "\n",
    "cols_with_null.plot(\n",
    "    kind='bar',\n",
    "    figsize=(10, 4),\n",
    "    title='qqq'\n",
    ")"
   ]
  },
  {
   "cell_type": "code",
   "execution_count": null,
   "id": "a1be3d43",
   "metadata": {},
   "outputs": [],
   "source": [
    "# Create a list of items in the current attribute\n",
    "def categories_list(data, column_name):\n",
    "    all_categories = data[column_name].apply(lambda x: x.split(','))\n",
    "    found_categories = []\n",
    "    for item in all_categories:\n",
    "        for inner_item in item:\n",
    "            trimmed_line = inner_item.lstrip().rstrip()\n",
    "            if trimmed_line not in found_categories:\n",
    "                found_categories.append(trimmed_line)\n",
    "    return found_categories\n",
    "\n",
    "# Encode current attribute to a set\n",
    "def category_encode(data, categories):\n",
    "    occupancies = categories\n",
    "    occupancy_status = pd.Series(\n",
    "        data = [False] * len(occupancies),\n",
    "        index = occupancies,\n",
    "        name = 'occupancy_statuses'\n",
    "    )\n",
    "    \n",
    "    data_splitted = data.split(',')\n",
    "    for index, item in enumerate(data_splitted):\n",
    "        trimmed_line = item.lstrip().rstrip()\n",
    "        if trimmed_line in occupancies:\n",
    "            occupancy_status[trimmed_line] = True\n",
    "            \n",
    "    return occupancy_status\n",
    "\n",
    "hh_df_copy01 = hh_df_init.copy()\n",
    "\n",
    "found_categories_occupancy = categories_list(hh_df_copy01, 'Занятость')\n",
    "hh_df_copy01[found_categories_occupancy] = hh_df_copy01['Занятость'].apply(lambda x: category_encode(x, found_categories_occupancy))\n"
   ]
  },
  {
   "cell_type": "code",
   "execution_count": null,
   "id": "6b19c76d",
   "metadata": {},
   "outputs": [],
   "source": [
    "def salary_extract(data):\n",
    "    data_splitted = data.split(' ')\n",
    "    data_result = pd.Series(\n",
    "        data = data_splitted,\n",
    "        index = ['salary', 'currency'],\n",
    "        name = 'data_result'\n",
    "    )\n",
    "    \n",
    "    data_result['salary'] = float(data_result['salary']) \n",
    "    return data_result\n",
    "\n",
    "exchange_df_init = pd.read_csv('./data/ExchangeRates.csv', sep=',')\n",
    "\n",
    "exchange_df = exchange_df_init.copy()\n",
    "\n",
    "exchange_df['exchange_rate'] = exchange_df['close'] / exchange_df['proportion']\n",
    "exchange_df['date1'] = pd.to_datetime(exchange_df['date'], format='%d/%m/%y', dayfirst=True).dt.date\n",
    "\n",
    "# Salary processing and currency convertion\n",
    "hh_df_copy02 = hh_df_copy01.copy()\n",
    "\n",
    "hh_df_copy02[['salary', 'currency']] = hh_df_copy02['ЗП'].apply(salary_extract) \n",
    "hh_df_copy02['Обновление резюме'] = pd.to_datetime(hh_df_copy02['Обновление резюме'], dayfirst=True).dt.date  \n",
    "\n",
    "currency_df = pd.DataFrame({\n",
    "    'name':['грн.', 'USD', 'EUR', 'бел.руб.', 'KGS', 'сум', 'AZN', 'KZT', 'руб.'],\n",
    "    'ISO_name':['UAH', 'USD', 'EUR', 'BYN', 'KGS', 'UZS', 'AZN', 'KZT', 'RUB']\n",
    "},\n",
    "index = ['UAH', 'USD', 'EUR', 'BYN', 'KGS', 'UZS', 'AZN', 'KZT', 'RUB']\n",
    ")\n",
    "\n",
    "\n",
    "\n",
    "\n",
    "    "
   ]
  }
 ],
 "metadata": {
  "kernelspec": {
   "display_name": "Python 3",
   "language": "python",
   "name": "python3"
  },
  "language_info": {
   "codemirror_mode": {
    "name": "ipython",
    "version": 3
   },
   "file_extension": ".py",
   "mimetype": "text/x-python",
   "name": "python",
   "nbconvert_exporter": "python",
   "pygments_lexer": "ipython3",
   "version": "3.13.3"
  }
 },
 "nbformat": 4,
 "nbformat_minor": 5
}
